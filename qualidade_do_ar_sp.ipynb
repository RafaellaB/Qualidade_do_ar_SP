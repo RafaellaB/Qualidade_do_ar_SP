{
  "cells": [
    {
      "cell_type": "markdown",
      "metadata": {
        "id": "view-in-github",
        "colab_type": "text"
      },
      "source": [
        "<a href=\"https://colab.research.google.com/github/RafaellaB/Qualidade_do_ar_SP/blob/main/qualidade_do_ar_sp.ipynb\" target=\"_parent\"><img src=\"https://colab.research.google.com/assets/colab-badge.svg\" alt=\"Open In Colab\"/></a>"
      ]
    },
    {
      "cell_type": "markdown",
      "metadata": {
        "id": "6LhYjMY2JKFG"
      },
      "source": []
    },
    {
      "cell_type": "markdown",
      "metadata": {
        "id": "_oAO2H-0JH48"
      },
      "source": [
        "Fonte: Plataforma Qualidade do Ar, do Instituto de Energia e Meio Ambiente (IEMA);\n",
        "Site: https://energiaeambiente.org.br/qualidadedoar#secao-14."
      ]
    },
    {
      "cell_type": "code",
      "execution_count": 1,
      "metadata": {
        "colab": {
          "base_uri": "https://localhost:8080/"
        },
        "id": "mi1HM7xvEbwe",
        "outputId": "d7aad683-38db-4540-c7d2-6a70efdf9c71"
      },
      "outputs": [
        {
          "output_type": "stream",
          "name": "stdout",
          "text": [
            "Requirement already satisfied: pandas in /usr/local/lib/python3.10/dist-packages (1.5.3)\n",
            "Requirement already satisfied: python-dateutil>=2.8.1 in /usr/local/lib/python3.10/dist-packages (from pandas) (2.8.2)\n",
            "Requirement already satisfied: pytz>=2020.1 in /usr/local/lib/python3.10/dist-packages (from pandas) (2023.3)\n",
            "Requirement already satisfied: numpy>=1.21.0 in /usr/local/lib/python3.10/dist-packages (from pandas) (1.23.5)\n",
            "Requirement already satisfied: six>=1.5 in /usr/local/lib/python3.10/dist-packages (from python-dateutil>=2.8.1->pandas) (1.16.0)\n",
            "Requirement already satisfied: seaborn in /usr/local/lib/python3.10/dist-packages (0.12.2)\n",
            "Requirement already satisfied: numpy!=1.24.0,>=1.17 in /usr/local/lib/python3.10/dist-packages (from seaborn) (1.23.5)\n",
            "Requirement already satisfied: pandas>=0.25 in /usr/local/lib/python3.10/dist-packages (from seaborn) (1.5.3)\n",
            "Requirement already satisfied: matplotlib!=3.6.1,>=3.1 in /usr/local/lib/python3.10/dist-packages (from seaborn) (3.7.1)\n",
            "Requirement already satisfied: contourpy>=1.0.1 in /usr/local/lib/python3.10/dist-packages (from matplotlib!=3.6.1,>=3.1->seaborn) (1.1.0)\n",
            "Requirement already satisfied: cycler>=0.10 in /usr/local/lib/python3.10/dist-packages (from matplotlib!=3.6.1,>=3.1->seaborn) (0.11.0)\n",
            "Requirement already satisfied: fonttools>=4.22.0 in /usr/local/lib/python3.10/dist-packages (from matplotlib!=3.6.1,>=3.1->seaborn) (4.42.0)\n",
            "Requirement already satisfied: kiwisolver>=1.0.1 in /usr/local/lib/python3.10/dist-packages (from matplotlib!=3.6.1,>=3.1->seaborn) (1.4.4)\n",
            "Requirement already satisfied: packaging>=20.0 in /usr/local/lib/python3.10/dist-packages (from matplotlib!=3.6.1,>=3.1->seaborn) (23.1)\n",
            "Requirement already satisfied: pillow>=6.2.0 in /usr/local/lib/python3.10/dist-packages (from matplotlib!=3.6.1,>=3.1->seaborn) (9.4.0)\n",
            "Requirement already satisfied: pyparsing>=2.3.1 in /usr/local/lib/python3.10/dist-packages (from matplotlib!=3.6.1,>=3.1->seaborn) (3.1.1)\n",
            "Requirement already satisfied: python-dateutil>=2.7 in /usr/local/lib/python3.10/dist-packages (from matplotlib!=3.6.1,>=3.1->seaborn) (2.8.2)\n",
            "Requirement already satisfied: pytz>=2020.1 in /usr/local/lib/python3.10/dist-packages (from pandas>=0.25->seaborn) (2023.3)\n",
            "Requirement already satisfied: six>=1.5 in /usr/local/lib/python3.10/dist-packages (from python-dateutil>=2.7->matplotlib!=3.6.1,>=3.1->seaborn) (1.16.0)\n",
            "Requirement already satisfied: matplotlib in /usr/local/lib/python3.10/dist-packages (3.7.1)\n",
            "Requirement already satisfied: contourpy>=1.0.1 in /usr/local/lib/python3.10/dist-packages (from matplotlib) (1.1.0)\n",
            "Requirement already satisfied: cycler>=0.10 in /usr/local/lib/python3.10/dist-packages (from matplotlib) (0.11.0)\n",
            "Requirement already satisfied: fonttools>=4.22.0 in /usr/local/lib/python3.10/dist-packages (from matplotlib) (4.42.0)\n",
            "Requirement already satisfied: kiwisolver>=1.0.1 in /usr/local/lib/python3.10/dist-packages (from matplotlib) (1.4.4)\n",
            "Requirement already satisfied: numpy>=1.20 in /usr/local/lib/python3.10/dist-packages (from matplotlib) (1.23.5)\n",
            "Requirement already satisfied: packaging>=20.0 in /usr/local/lib/python3.10/dist-packages (from matplotlib) (23.1)\n",
            "Requirement already satisfied: pillow>=6.2.0 in /usr/local/lib/python3.10/dist-packages (from matplotlib) (9.4.0)\n",
            "Requirement already satisfied: pyparsing>=2.3.1 in /usr/local/lib/python3.10/dist-packages (from matplotlib) (3.1.1)\n",
            "Requirement already satisfied: python-dateutil>=2.7 in /usr/local/lib/python3.10/dist-packages (from matplotlib) (2.8.2)\n",
            "Requirement already satisfied: six>=1.5 in /usr/local/lib/python3.10/dist-packages (from python-dateutil>=2.7->matplotlib) (1.16.0)\n"
          ]
        }
      ],
      "source": [
        "!pip install pandas\n",
        "!pip install seaborn\n",
        "!pip install matplotlib"
      ]
    },
    {
      "cell_type": "code",
      "execution_count": 15,
      "metadata": {
        "id": "XFrxIamG5La4"
      },
      "outputs": [],
      "source": [
        "import pandas as pd\n",
        "from datetime import datetime, time\n",
        "import matplotlib.pyplot as plt\n",
        "import seaborn as sns"
      ]
    },
    {
      "cell_type": "code",
      "source": [
        "from datetime import datetime\n",
        "import time as tm"
      ],
      "metadata": {
        "id": "L-Ky9uOFqIE-"
      },
      "execution_count": 75,
      "outputs": []
    },
    {
      "cell_type": "code",
      "execution_count": 3,
      "metadata": {
        "colab": {
          "base_uri": "https://localhost:8080/",
          "height": 73
        },
        "id": "0FJ8qMgA-rrQ",
        "outputId": "bc268d42-c33b-4f0a-83d6-f761b8c57dd4"
      },
      "outputs": [
        {
          "output_type": "display_data",
          "data": {
            "text/plain": [
              "<IPython.core.display.HTML object>"
            ],
            "text/html": [
              "\n",
              "     <input type=\"file\" id=\"files-f6995a7d-f841-48a3-8181-4c57de5933fc\" name=\"files[]\" multiple disabled\n",
              "        style=\"border:none\" />\n",
              "     <output id=\"result-f6995a7d-f841-48a3-8181-4c57de5933fc\">\n",
              "      Upload widget is only available when the cell has been executed in the\n",
              "      current browser session. Please rerun this cell to enable.\n",
              "      </output>\n",
              "      <script>// Copyright 2017 Google LLC\n",
              "//\n",
              "// Licensed under the Apache License, Version 2.0 (the \"License\");\n",
              "// you may not use this file except in compliance with the License.\n",
              "// You may obtain a copy of the License at\n",
              "//\n",
              "//      http://www.apache.org/licenses/LICENSE-2.0\n",
              "//\n",
              "// Unless required by applicable law or agreed to in writing, software\n",
              "// distributed under the License is distributed on an \"AS IS\" BASIS,\n",
              "// WITHOUT WARRANTIES OR CONDITIONS OF ANY KIND, either express or implied.\n",
              "// See the License for the specific language governing permissions and\n",
              "// limitations under the License.\n",
              "\n",
              "/**\n",
              " * @fileoverview Helpers for google.colab Python module.\n",
              " */\n",
              "(function(scope) {\n",
              "function span(text, styleAttributes = {}) {\n",
              "  const element = document.createElement('span');\n",
              "  element.textContent = text;\n",
              "  for (const key of Object.keys(styleAttributes)) {\n",
              "    element.style[key] = styleAttributes[key];\n",
              "  }\n",
              "  return element;\n",
              "}\n",
              "\n",
              "// Max number of bytes which will be uploaded at a time.\n",
              "const MAX_PAYLOAD_SIZE = 100 * 1024;\n",
              "\n",
              "function _uploadFiles(inputId, outputId) {\n",
              "  const steps = uploadFilesStep(inputId, outputId);\n",
              "  const outputElement = document.getElementById(outputId);\n",
              "  // Cache steps on the outputElement to make it available for the next call\n",
              "  // to uploadFilesContinue from Python.\n",
              "  outputElement.steps = steps;\n",
              "\n",
              "  return _uploadFilesContinue(outputId);\n",
              "}\n",
              "\n",
              "// This is roughly an async generator (not supported in the browser yet),\n",
              "// where there are multiple asynchronous steps and the Python side is going\n",
              "// to poll for completion of each step.\n",
              "// This uses a Promise to block the python side on completion of each step,\n",
              "// then passes the result of the previous step as the input to the next step.\n",
              "function _uploadFilesContinue(outputId) {\n",
              "  const outputElement = document.getElementById(outputId);\n",
              "  const steps = outputElement.steps;\n",
              "\n",
              "  const next = steps.next(outputElement.lastPromiseValue);\n",
              "  return Promise.resolve(next.value.promise).then((value) => {\n",
              "    // Cache the last promise value to make it available to the next\n",
              "    // step of the generator.\n",
              "    outputElement.lastPromiseValue = value;\n",
              "    return next.value.response;\n",
              "  });\n",
              "}\n",
              "\n",
              "/**\n",
              " * Generator function which is called between each async step of the upload\n",
              " * process.\n",
              " * @param {string} inputId Element ID of the input file picker element.\n",
              " * @param {string} outputId Element ID of the output display.\n",
              " * @return {!Iterable<!Object>} Iterable of next steps.\n",
              " */\n",
              "function* uploadFilesStep(inputId, outputId) {\n",
              "  const inputElement = document.getElementById(inputId);\n",
              "  inputElement.disabled = false;\n",
              "\n",
              "  const outputElement = document.getElementById(outputId);\n",
              "  outputElement.innerHTML = '';\n",
              "\n",
              "  const pickedPromise = new Promise((resolve) => {\n",
              "    inputElement.addEventListener('change', (e) => {\n",
              "      resolve(e.target.files);\n",
              "    });\n",
              "  });\n",
              "\n",
              "  const cancel = document.createElement('button');\n",
              "  inputElement.parentElement.appendChild(cancel);\n",
              "  cancel.textContent = 'Cancel upload';\n",
              "  const cancelPromise = new Promise((resolve) => {\n",
              "    cancel.onclick = () => {\n",
              "      resolve(null);\n",
              "    };\n",
              "  });\n",
              "\n",
              "  // Wait for the user to pick the files.\n",
              "  const files = yield {\n",
              "    promise: Promise.race([pickedPromise, cancelPromise]),\n",
              "    response: {\n",
              "      action: 'starting',\n",
              "    }\n",
              "  };\n",
              "\n",
              "  cancel.remove();\n",
              "\n",
              "  // Disable the input element since further picks are not allowed.\n",
              "  inputElement.disabled = true;\n",
              "\n",
              "  if (!files) {\n",
              "    return {\n",
              "      response: {\n",
              "        action: 'complete',\n",
              "      }\n",
              "    };\n",
              "  }\n",
              "\n",
              "  for (const file of files) {\n",
              "    const li = document.createElement('li');\n",
              "    li.append(span(file.name, {fontWeight: 'bold'}));\n",
              "    li.append(span(\n",
              "        `(${file.type || 'n/a'}) - ${file.size} bytes, ` +\n",
              "        `last modified: ${\n",
              "            file.lastModifiedDate ? file.lastModifiedDate.toLocaleDateString() :\n",
              "                                    'n/a'} - `));\n",
              "    const percent = span('0% done');\n",
              "    li.appendChild(percent);\n",
              "\n",
              "    outputElement.appendChild(li);\n",
              "\n",
              "    const fileDataPromise = new Promise((resolve) => {\n",
              "      const reader = new FileReader();\n",
              "      reader.onload = (e) => {\n",
              "        resolve(e.target.result);\n",
              "      };\n",
              "      reader.readAsArrayBuffer(file);\n",
              "    });\n",
              "    // Wait for the data to be ready.\n",
              "    let fileData = yield {\n",
              "      promise: fileDataPromise,\n",
              "      response: {\n",
              "        action: 'continue',\n",
              "      }\n",
              "    };\n",
              "\n",
              "    // Use a chunked sending to avoid message size limits. See b/62115660.\n",
              "    let position = 0;\n",
              "    do {\n",
              "      const length = Math.min(fileData.byteLength - position, MAX_PAYLOAD_SIZE);\n",
              "      const chunk = new Uint8Array(fileData, position, length);\n",
              "      position += length;\n",
              "\n",
              "      const base64 = btoa(String.fromCharCode.apply(null, chunk));\n",
              "      yield {\n",
              "        response: {\n",
              "          action: 'append',\n",
              "          file: file.name,\n",
              "          data: base64,\n",
              "        },\n",
              "      };\n",
              "\n",
              "      let percentDone = fileData.byteLength === 0 ?\n",
              "          100 :\n",
              "          Math.round((position / fileData.byteLength) * 100);\n",
              "      percent.textContent = `${percentDone}% done`;\n",
              "\n",
              "    } while (position < fileData.byteLength);\n",
              "  }\n",
              "\n",
              "  // All done.\n",
              "  yield {\n",
              "    response: {\n",
              "      action: 'complete',\n",
              "    }\n",
              "  };\n",
              "}\n",
              "\n",
              "scope.google = scope.google || {};\n",
              "scope.google.colab = scope.google.colab || {};\n",
              "scope.google.colab._files = {\n",
              "  _uploadFiles,\n",
              "  _uploadFilesContinue,\n",
              "};\n",
              "})(self);\n",
              "</script> "
            ]
          },
          "metadata": {}
        },
        {
          "output_type": "stream",
          "name": "stdout",
          "text": [
            "Saving SP201501.csv to SP201501.csv\n"
          ]
        }
      ],
      "source": [
        "from google.colab import files\n",
        "uploaded = files.upload()"
      ]
    },
    {
      "cell_type": "code",
      "execution_count": 151,
      "metadata": {
        "id": "rI0cl234YTdh"
      },
      "outputs": [],
      "source": [
        "dataframe = pd.read_csv('SP201501.csv', encoding='ISO-8859-1') #ler os dados"
      ]
    },
    {
      "cell_type": "code",
      "source": [
        "dataframe.info()"
      ],
      "metadata": {
        "colab": {
          "base_uri": "https://localhost:8080/"
        },
        "id": "7OJ9NBBgSQyF",
        "outputId": "8bccd7df-4ea6-4429-ed3b-29be0a4e4990"
      },
      "execution_count": 152,
      "outputs": [
        {
          "output_type": "stream",
          "name": "stdout",
          "text": [
            "<class 'pandas.core.frame.DataFrame'>\n",
            "RangeIndex: 687848 entries, 0 to 687847\n",
            "Data columns (total 8 columns):\n",
            " #   Column    Non-Null Count   Dtype  \n",
            "---  ------    --------------   -----  \n",
            " 0   Data      687848 non-null  object \n",
            " 1   Hora      687848 non-null  object \n",
            " 2   Estacao   687848 non-null  object \n",
            " 3   Codigo    687848 non-null  object \n",
            " 4   Poluente  687848 non-null  object \n",
            " 5   Valor     687848 non-null  float64\n",
            " 6   Unidade   687848 non-null  object \n",
            " 7   Tipo      687848 non-null  object \n",
            "dtypes: float64(1), object(7)\n",
            "memory usage: 42.0+ MB\n"
          ]
        }
      ]
    },
    {
      "cell_type": "code",
      "source": [
        "dataframe.head()"
      ],
      "metadata": {
        "colab": {
          "base_uri": "https://localhost:8080/",
          "height": 206
        },
        "id": "k_I_F1SaSesE",
        "outputId": "cd963be9-f5cf-437a-df81-3f4dcc8cfdcf"
      },
      "execution_count": 153,
      "outputs": [
        {
          "output_type": "execute_result",
          "data": {
            "text/plain": [
              "         Data   Hora                       Estacao Codigo Poluente  Valor  \\\n",
              "0  2015-01-01  01:00  Americana - Vila Santa Maria   SP01     MP10   65.0   \n",
              "1  2015-01-01  02:00  Americana - Vila Santa Maria   SP01     MP10   98.0   \n",
              "2  2015-01-01  03:00  Americana - Vila Santa Maria   SP01     MP10   79.0   \n",
              "3  2015-01-01  04:00  Americana - Vila Santa Maria   SP01     MP10   53.0   \n",
              "4  2015-01-01  05:00  Americana - Vila Santa Maria   SP01     MP10   35.0   \n",
              "\n",
              "  Unidade        Tipo  \n",
              "0   ug/m3  automatica  \n",
              "1   ug/m3  automatica  \n",
              "2   ug/m3  automatica  \n",
              "3   ug/m3  automatica  \n",
              "4   ug/m3  automatica  "
            ],
            "text/html": [
              "\n",
              "  <div id=\"df-3d402200-3203-407d-87a9-6a936cf6fa60\" class=\"colab-df-container\">\n",
              "    <div>\n",
              "<style scoped>\n",
              "    .dataframe tbody tr th:only-of-type {\n",
              "        vertical-align: middle;\n",
              "    }\n",
              "\n",
              "    .dataframe tbody tr th {\n",
              "        vertical-align: top;\n",
              "    }\n",
              "\n",
              "    .dataframe thead th {\n",
              "        text-align: right;\n",
              "    }\n",
              "</style>\n",
              "<table border=\"1\" class=\"dataframe\">\n",
              "  <thead>\n",
              "    <tr style=\"text-align: right;\">\n",
              "      <th></th>\n",
              "      <th>Data</th>\n",
              "      <th>Hora</th>\n",
              "      <th>Estacao</th>\n",
              "      <th>Codigo</th>\n",
              "      <th>Poluente</th>\n",
              "      <th>Valor</th>\n",
              "      <th>Unidade</th>\n",
              "      <th>Tipo</th>\n",
              "    </tr>\n",
              "  </thead>\n",
              "  <tbody>\n",
              "    <tr>\n",
              "      <th>0</th>\n",
              "      <td>2015-01-01</td>\n",
              "      <td>01:00</td>\n",
              "      <td>Americana - Vila Santa Maria</td>\n",
              "      <td>SP01</td>\n",
              "      <td>MP10</td>\n",
              "      <td>65.0</td>\n",
              "      <td>ug/m3</td>\n",
              "      <td>automatica</td>\n",
              "    </tr>\n",
              "    <tr>\n",
              "      <th>1</th>\n",
              "      <td>2015-01-01</td>\n",
              "      <td>02:00</td>\n",
              "      <td>Americana - Vila Santa Maria</td>\n",
              "      <td>SP01</td>\n",
              "      <td>MP10</td>\n",
              "      <td>98.0</td>\n",
              "      <td>ug/m3</td>\n",
              "      <td>automatica</td>\n",
              "    </tr>\n",
              "    <tr>\n",
              "      <th>2</th>\n",
              "      <td>2015-01-01</td>\n",
              "      <td>03:00</td>\n",
              "      <td>Americana - Vila Santa Maria</td>\n",
              "      <td>SP01</td>\n",
              "      <td>MP10</td>\n",
              "      <td>79.0</td>\n",
              "      <td>ug/m3</td>\n",
              "      <td>automatica</td>\n",
              "    </tr>\n",
              "    <tr>\n",
              "      <th>3</th>\n",
              "      <td>2015-01-01</td>\n",
              "      <td>04:00</td>\n",
              "      <td>Americana - Vila Santa Maria</td>\n",
              "      <td>SP01</td>\n",
              "      <td>MP10</td>\n",
              "      <td>53.0</td>\n",
              "      <td>ug/m3</td>\n",
              "      <td>automatica</td>\n",
              "    </tr>\n",
              "    <tr>\n",
              "      <th>4</th>\n",
              "      <td>2015-01-01</td>\n",
              "      <td>05:00</td>\n",
              "      <td>Americana - Vila Santa Maria</td>\n",
              "      <td>SP01</td>\n",
              "      <td>MP10</td>\n",
              "      <td>35.0</td>\n",
              "      <td>ug/m3</td>\n",
              "      <td>automatica</td>\n",
              "    </tr>\n",
              "  </tbody>\n",
              "</table>\n",
              "</div>\n",
              "    <div class=\"colab-df-buttons\">\n",
              "\n",
              "  <div class=\"colab-df-container\">\n",
              "    <button class=\"colab-df-convert\" onclick=\"convertToInteractive('df-3d402200-3203-407d-87a9-6a936cf6fa60')\"\n",
              "            title=\"Convert this dataframe to an interactive table.\"\n",
              "            style=\"display:none;\">\n",
              "\n",
              "  <svg xmlns=\"http://www.w3.org/2000/svg\" height=\"24px\" viewBox=\"0 -960 960 960\">\n",
              "    <path d=\"M120-120v-720h720v720H120Zm60-500h600v-160H180v160Zm220 220h160v-160H400v160Zm0 220h160v-160H400v160ZM180-400h160v-160H180v160Zm440 0h160v-160H620v160ZM180-180h160v-160H180v160Zm440 0h160v-160H620v160Z\"/>\n",
              "  </svg>\n",
              "    </button>\n",
              "\n",
              "  <style>\n",
              "    .colab-df-container {\n",
              "      display:flex;\n",
              "      gap: 12px;\n",
              "    }\n",
              "\n",
              "    .colab-df-convert {\n",
              "      background-color: #E8F0FE;\n",
              "      border: none;\n",
              "      border-radius: 50%;\n",
              "      cursor: pointer;\n",
              "      display: none;\n",
              "      fill: #1967D2;\n",
              "      height: 32px;\n",
              "      padding: 0 0 0 0;\n",
              "      width: 32px;\n",
              "    }\n",
              "\n",
              "    .colab-df-convert:hover {\n",
              "      background-color: #E2EBFA;\n",
              "      box-shadow: 0px 1px 2px rgba(60, 64, 67, 0.3), 0px 1px 3px 1px rgba(60, 64, 67, 0.15);\n",
              "      fill: #174EA6;\n",
              "    }\n",
              "\n",
              "    .colab-df-buttons div {\n",
              "      margin-bottom: 4px;\n",
              "    }\n",
              "\n",
              "    [theme=dark] .colab-df-convert {\n",
              "      background-color: #3B4455;\n",
              "      fill: #D2E3FC;\n",
              "    }\n",
              "\n",
              "    [theme=dark] .colab-df-convert:hover {\n",
              "      background-color: #434B5C;\n",
              "      box-shadow: 0px 1px 3px 1px rgba(0, 0, 0, 0.15);\n",
              "      filter: drop-shadow(0px 1px 2px rgba(0, 0, 0, 0.3));\n",
              "      fill: #FFFFFF;\n",
              "    }\n",
              "  </style>\n",
              "\n",
              "    <script>\n",
              "      const buttonEl =\n",
              "        document.querySelector('#df-3d402200-3203-407d-87a9-6a936cf6fa60 button.colab-df-convert');\n",
              "      buttonEl.style.display =\n",
              "        google.colab.kernel.accessAllowed ? 'block' : 'none';\n",
              "\n",
              "      async function convertToInteractive(key) {\n",
              "        const element = document.querySelector('#df-3d402200-3203-407d-87a9-6a936cf6fa60');\n",
              "        const dataTable =\n",
              "          await google.colab.kernel.invokeFunction('convertToInteractive',\n",
              "                                                    [key], {});\n",
              "        if (!dataTable) return;\n",
              "\n",
              "        const docLinkHtml = 'Like what you see? Visit the ' +\n",
              "          '<a target=\"_blank\" href=https://colab.research.google.com/notebooks/data_table.ipynb>data table notebook</a>'\n",
              "          + ' to learn more about interactive tables.';\n",
              "        element.innerHTML = '';\n",
              "        dataTable['output_type'] = 'display_data';\n",
              "        await google.colab.output.renderOutput(dataTable, element);\n",
              "        const docLink = document.createElement('div');\n",
              "        docLink.innerHTML = docLinkHtml;\n",
              "        element.appendChild(docLink);\n",
              "      }\n",
              "    </script>\n",
              "  </div>\n",
              "\n",
              "\n",
              "<div id=\"df-80af17a4-70f7-4885-9ac8-08982a492bae\">\n",
              "  <button class=\"colab-df-quickchart\" onclick=\"quickchart('df-80af17a4-70f7-4885-9ac8-08982a492bae')\"\n",
              "            title=\"Suggest charts.\"\n",
              "            style=\"display:none;\">\n",
              "\n",
              "<svg xmlns=\"http://www.w3.org/2000/svg\" height=\"24px\"viewBox=\"0 0 24 24\"\n",
              "     width=\"24px\">\n",
              "    <g>\n",
              "        <path d=\"M19 3H5c-1.1 0-2 .9-2 2v14c0 1.1.9 2 2 2h14c1.1 0 2-.9 2-2V5c0-1.1-.9-2-2-2zM9 17H7v-7h2v7zm4 0h-2V7h2v10zm4 0h-2v-4h2v4z\"/>\n",
              "    </g>\n",
              "</svg>\n",
              "  </button>\n",
              "\n",
              "<style>\n",
              "  .colab-df-quickchart {\n",
              "    background-color: #E8F0FE;\n",
              "    border: none;\n",
              "    border-radius: 50%;\n",
              "    cursor: pointer;\n",
              "    display: none;\n",
              "    fill: #1967D2;\n",
              "    height: 32px;\n",
              "    padding: 0 0 0 0;\n",
              "    width: 32px;\n",
              "  }\n",
              "\n",
              "  .colab-df-quickchart:hover {\n",
              "    background-color: #E2EBFA;\n",
              "    box-shadow: 0px 1px 2px rgba(60, 64, 67, 0.3), 0px 1px 3px 1px rgba(60, 64, 67, 0.15);\n",
              "    fill: #174EA6;\n",
              "  }\n",
              "\n",
              "  [theme=dark] .colab-df-quickchart {\n",
              "    background-color: #3B4455;\n",
              "    fill: #D2E3FC;\n",
              "  }\n",
              "\n",
              "  [theme=dark] .colab-df-quickchart:hover {\n",
              "    background-color: #434B5C;\n",
              "    box-shadow: 0px 1px 3px 1px rgba(0, 0, 0, 0.15);\n",
              "    filter: drop-shadow(0px 1px 2px rgba(0, 0, 0, 0.3));\n",
              "    fill: #FFFFFF;\n",
              "  }\n",
              "</style>\n",
              "\n",
              "  <script>\n",
              "    async function quickchart(key) {\n",
              "      const charts = await google.colab.kernel.invokeFunction(\n",
              "          'suggestCharts', [key], {});\n",
              "    }\n",
              "    (() => {\n",
              "      let quickchartButtonEl =\n",
              "        document.querySelector('#df-80af17a4-70f7-4885-9ac8-08982a492bae button');\n",
              "      quickchartButtonEl.style.display =\n",
              "        google.colab.kernel.accessAllowed ? 'block' : 'none';\n",
              "    })();\n",
              "  </script>\n",
              "</div>\n",
              "    </div>\n",
              "  </div>\n"
            ]
          },
          "metadata": {},
          "execution_count": 153
        }
      ]
    },
    {
      "cell_type": "markdown",
      "source": [
        "### Informações sobre o dataset"
      ],
      "metadata": {
        "id": "mSKG-v_ziNIu"
      }
    },
    {
      "cell_type": "code",
      "source": [
        "# Converter a coluna 'data' para o tipo datetime\n",
        "dataframe['Data'] = pd.to_datetime(dataframe['Data'])\n"
      ],
      "metadata": {
        "id": "HVDer16UjWie"
      },
      "execution_count": 154,
      "outputs": []
    },
    {
      "cell_type": "code",
      "source": [
        "from datetime import datetime"
      ],
      "metadata": {
        "id": "WXH0Wj0359kB"
      },
      "execution_count": 155,
      "outputs": []
    },
    {
      "cell_type": "code",
      "source": [
        "# Transformando string de hora para datatime\n",
        "#dataframe['Hora'] = dataframe['Hora'].replace('24:00', '00:00')\n",
        "#dataframe['Hora'] = pd.to_datetime(dataframe['Hora'], format='%H:%M')"
      ],
      "metadata": {
        "id": "wl8hTso5Hl2e"
      },
      "execution_count": 115,
      "outputs": []
    },
    {
      "cell_type": "code",
      "source": [
        "dataframe.info()  # verificar o tipo de cada dado."
      ],
      "metadata": {
        "colab": {
          "base_uri": "https://localhost:8080/"
        },
        "id": "xVbjayBihvlo",
        "outputId": "8d1d82e5-19bf-44a1-9ff2-080d8dabc458"
      },
      "execution_count": 156,
      "outputs": [
        {
          "output_type": "stream",
          "name": "stdout",
          "text": [
            "<class 'pandas.core.frame.DataFrame'>\n",
            "RangeIndex: 687848 entries, 0 to 687847\n",
            "Data columns (total 8 columns):\n",
            " #   Column    Non-Null Count   Dtype         \n",
            "---  ------    --------------   -----         \n",
            " 0   Data      687848 non-null  datetime64[ns]\n",
            " 1   Hora      687848 non-null  object        \n",
            " 2   Estacao   687848 non-null  object        \n",
            " 3   Codigo    687848 non-null  object        \n",
            " 4   Poluente  687848 non-null  object        \n",
            " 5   Valor     687848 non-null  float64       \n",
            " 6   Unidade   687848 non-null  object        \n",
            " 7   Tipo      687848 non-null  object        \n",
            "dtypes: datetime64[ns](1), float64(1), object(6)\n",
            "memory usage: 42.0+ MB\n"
          ]
        }
      ]
    },
    {
      "cell_type": "code",
      "source": [
        "dataframe.shape[1] #número de colunas"
      ],
      "metadata": {
        "colab": {
          "base_uri": "https://localhost:8080/"
        },
        "id": "Yee1sE21lp5A",
        "outputId": "4ef78164-a097-42af-d8f2-62f5dc1127da"
      },
      "execution_count": 47,
      "outputs": [
        {
          "output_type": "execute_result",
          "data": {
            "text/plain": [
              "8"
            ]
          },
          "metadata": {},
          "execution_count": 47
        }
      ]
    },
    {
      "cell_type": "code",
      "source": [
        "dataframe.shape[0] #número de linhas"
      ],
      "metadata": {
        "colab": {
          "base_uri": "https://localhost:8080/"
        },
        "id": "8oCiZRqMlzjb",
        "outputId": "d4f4628e-5eb0-4353-eae6-c32d42910fb7"
      },
      "execution_count": 118,
      "outputs": [
        {
          "output_type": "execute_result",
          "data": {
            "text/plain": [
              "687848"
            ]
          },
          "metadata": {},
          "execution_count": 118
        }
      ]
    },
    {
      "cell_type": "code",
      "source": [
        "dataframe.columns #retorna as variáveis do dataset"
      ],
      "metadata": {
        "colab": {
          "base_uri": "https://localhost:8080/"
        },
        "id": "hkg1rNO9l6X4",
        "outputId": "195eba88-2ceb-4cb9-aebf-c741341fb7e1"
      },
      "execution_count": 119,
      "outputs": [
        {
          "output_type": "execute_result",
          "data": {
            "text/plain": [
              "Index(['Data', 'Hora', 'Estacao', 'Codigo', 'Poluente', 'Valor', 'Unidade',\n",
              "       'Tipo'],\n",
              "      dtype='object')"
            ]
          },
          "metadata": {},
          "execution_count": 119
        }
      ]
    },
    {
      "cell_type": "markdown",
      "source": [
        "### Filtros e seleções"
      ],
      "metadata": {
        "id": "AxsxWNikoZwN"
      }
    },
    {
      "cell_type": "code",
      "source": [
        "dataframe.head(5) #retorna só as 5 primeiras linhas"
      ],
      "metadata": {
        "colab": {
          "base_uri": "https://localhost:8080/",
          "height": 206
        },
        "id": "dw5vF9w0mJ2E",
        "outputId": "953f691f-edbc-4496-e2a4-78a65b5660a9"
      },
      "execution_count": 157,
      "outputs": [
        {
          "output_type": "execute_result",
          "data": {
            "text/plain": [
              "        Data   Hora                       Estacao Codigo Poluente  Valor  \\\n",
              "0 2015-01-01  01:00  Americana - Vila Santa Maria   SP01     MP10   65.0   \n",
              "1 2015-01-01  02:00  Americana - Vila Santa Maria   SP01     MP10   98.0   \n",
              "2 2015-01-01  03:00  Americana - Vila Santa Maria   SP01     MP10   79.0   \n",
              "3 2015-01-01  04:00  Americana - Vila Santa Maria   SP01     MP10   53.0   \n",
              "4 2015-01-01  05:00  Americana - Vila Santa Maria   SP01     MP10   35.0   \n",
              "\n",
              "  Unidade        Tipo  \n",
              "0   ug/m3  automatica  \n",
              "1   ug/m3  automatica  \n",
              "2   ug/m3  automatica  \n",
              "3   ug/m3  automatica  \n",
              "4   ug/m3  automatica  "
            ],
            "text/html": [
              "\n",
              "  <div id=\"df-517acc9f-cf5e-4356-babd-389338e47a2a\" class=\"colab-df-container\">\n",
              "    <div>\n",
              "<style scoped>\n",
              "    .dataframe tbody tr th:only-of-type {\n",
              "        vertical-align: middle;\n",
              "    }\n",
              "\n",
              "    .dataframe tbody tr th {\n",
              "        vertical-align: top;\n",
              "    }\n",
              "\n",
              "    .dataframe thead th {\n",
              "        text-align: right;\n",
              "    }\n",
              "</style>\n",
              "<table border=\"1\" class=\"dataframe\">\n",
              "  <thead>\n",
              "    <tr style=\"text-align: right;\">\n",
              "      <th></th>\n",
              "      <th>Data</th>\n",
              "      <th>Hora</th>\n",
              "      <th>Estacao</th>\n",
              "      <th>Codigo</th>\n",
              "      <th>Poluente</th>\n",
              "      <th>Valor</th>\n",
              "      <th>Unidade</th>\n",
              "      <th>Tipo</th>\n",
              "    </tr>\n",
              "  </thead>\n",
              "  <tbody>\n",
              "    <tr>\n",
              "      <th>0</th>\n",
              "      <td>2015-01-01</td>\n",
              "      <td>01:00</td>\n",
              "      <td>Americana - Vila Santa Maria</td>\n",
              "      <td>SP01</td>\n",
              "      <td>MP10</td>\n",
              "      <td>65.0</td>\n",
              "      <td>ug/m3</td>\n",
              "      <td>automatica</td>\n",
              "    </tr>\n",
              "    <tr>\n",
              "      <th>1</th>\n",
              "      <td>2015-01-01</td>\n",
              "      <td>02:00</td>\n",
              "      <td>Americana - Vila Santa Maria</td>\n",
              "      <td>SP01</td>\n",
              "      <td>MP10</td>\n",
              "      <td>98.0</td>\n",
              "      <td>ug/m3</td>\n",
              "      <td>automatica</td>\n",
              "    </tr>\n",
              "    <tr>\n",
              "      <th>2</th>\n",
              "      <td>2015-01-01</td>\n",
              "      <td>03:00</td>\n",
              "      <td>Americana - Vila Santa Maria</td>\n",
              "      <td>SP01</td>\n",
              "      <td>MP10</td>\n",
              "      <td>79.0</td>\n",
              "      <td>ug/m3</td>\n",
              "      <td>automatica</td>\n",
              "    </tr>\n",
              "    <tr>\n",
              "      <th>3</th>\n",
              "      <td>2015-01-01</td>\n",
              "      <td>04:00</td>\n",
              "      <td>Americana - Vila Santa Maria</td>\n",
              "      <td>SP01</td>\n",
              "      <td>MP10</td>\n",
              "      <td>53.0</td>\n",
              "      <td>ug/m3</td>\n",
              "      <td>automatica</td>\n",
              "    </tr>\n",
              "    <tr>\n",
              "      <th>4</th>\n",
              "      <td>2015-01-01</td>\n",
              "      <td>05:00</td>\n",
              "      <td>Americana - Vila Santa Maria</td>\n",
              "      <td>SP01</td>\n",
              "      <td>MP10</td>\n",
              "      <td>35.0</td>\n",
              "      <td>ug/m3</td>\n",
              "      <td>automatica</td>\n",
              "    </tr>\n",
              "  </tbody>\n",
              "</table>\n",
              "</div>\n",
              "    <div class=\"colab-df-buttons\">\n",
              "\n",
              "  <div class=\"colab-df-container\">\n",
              "    <button class=\"colab-df-convert\" onclick=\"convertToInteractive('df-517acc9f-cf5e-4356-babd-389338e47a2a')\"\n",
              "            title=\"Convert this dataframe to an interactive table.\"\n",
              "            style=\"display:none;\">\n",
              "\n",
              "  <svg xmlns=\"http://www.w3.org/2000/svg\" height=\"24px\" viewBox=\"0 -960 960 960\">\n",
              "    <path d=\"M120-120v-720h720v720H120Zm60-500h600v-160H180v160Zm220 220h160v-160H400v160Zm0 220h160v-160H400v160ZM180-400h160v-160H180v160Zm440 0h160v-160H620v160ZM180-180h160v-160H180v160Zm440 0h160v-160H620v160Z\"/>\n",
              "  </svg>\n",
              "    </button>\n",
              "\n",
              "  <style>\n",
              "    .colab-df-container {\n",
              "      display:flex;\n",
              "      gap: 12px;\n",
              "    }\n",
              "\n",
              "    .colab-df-convert {\n",
              "      background-color: #E8F0FE;\n",
              "      border: none;\n",
              "      border-radius: 50%;\n",
              "      cursor: pointer;\n",
              "      display: none;\n",
              "      fill: #1967D2;\n",
              "      height: 32px;\n",
              "      padding: 0 0 0 0;\n",
              "      width: 32px;\n",
              "    }\n",
              "\n",
              "    .colab-df-convert:hover {\n",
              "      background-color: #E2EBFA;\n",
              "      box-shadow: 0px 1px 2px rgba(60, 64, 67, 0.3), 0px 1px 3px 1px rgba(60, 64, 67, 0.15);\n",
              "      fill: #174EA6;\n",
              "    }\n",
              "\n",
              "    .colab-df-buttons div {\n",
              "      margin-bottom: 4px;\n",
              "    }\n",
              "\n",
              "    [theme=dark] .colab-df-convert {\n",
              "      background-color: #3B4455;\n",
              "      fill: #D2E3FC;\n",
              "    }\n",
              "\n",
              "    [theme=dark] .colab-df-convert:hover {\n",
              "      background-color: #434B5C;\n",
              "      box-shadow: 0px 1px 3px 1px rgba(0, 0, 0, 0.15);\n",
              "      filter: drop-shadow(0px 1px 2px rgba(0, 0, 0, 0.3));\n",
              "      fill: #FFFFFF;\n",
              "    }\n",
              "  </style>\n",
              "\n",
              "    <script>\n",
              "      const buttonEl =\n",
              "        document.querySelector('#df-517acc9f-cf5e-4356-babd-389338e47a2a button.colab-df-convert');\n",
              "      buttonEl.style.display =\n",
              "        google.colab.kernel.accessAllowed ? 'block' : 'none';\n",
              "\n",
              "      async function convertToInteractive(key) {\n",
              "        const element = document.querySelector('#df-517acc9f-cf5e-4356-babd-389338e47a2a');\n",
              "        const dataTable =\n",
              "          await google.colab.kernel.invokeFunction('convertToInteractive',\n",
              "                                                    [key], {});\n",
              "        if (!dataTable) return;\n",
              "\n",
              "        const docLinkHtml = 'Like what you see? Visit the ' +\n",
              "          '<a target=\"_blank\" href=https://colab.research.google.com/notebooks/data_table.ipynb>data table notebook</a>'\n",
              "          + ' to learn more about interactive tables.';\n",
              "        element.innerHTML = '';\n",
              "        dataTable['output_type'] = 'display_data';\n",
              "        await google.colab.output.renderOutput(dataTable, element);\n",
              "        const docLink = document.createElement('div');\n",
              "        docLink.innerHTML = docLinkHtml;\n",
              "        element.appendChild(docLink);\n",
              "      }\n",
              "    </script>\n",
              "  </div>\n",
              "\n",
              "\n",
              "<div id=\"df-e92af5d4-eb58-47a3-a331-ab398447271c\">\n",
              "  <button class=\"colab-df-quickchart\" onclick=\"quickchart('df-e92af5d4-eb58-47a3-a331-ab398447271c')\"\n",
              "            title=\"Suggest charts.\"\n",
              "            style=\"display:none;\">\n",
              "\n",
              "<svg xmlns=\"http://www.w3.org/2000/svg\" height=\"24px\"viewBox=\"0 0 24 24\"\n",
              "     width=\"24px\">\n",
              "    <g>\n",
              "        <path d=\"M19 3H5c-1.1 0-2 .9-2 2v14c0 1.1.9 2 2 2h14c1.1 0 2-.9 2-2V5c0-1.1-.9-2-2-2zM9 17H7v-7h2v7zm4 0h-2V7h2v10zm4 0h-2v-4h2v4z\"/>\n",
              "    </g>\n",
              "</svg>\n",
              "  </button>\n",
              "\n",
              "<style>\n",
              "  .colab-df-quickchart {\n",
              "    background-color: #E8F0FE;\n",
              "    border: none;\n",
              "    border-radius: 50%;\n",
              "    cursor: pointer;\n",
              "    display: none;\n",
              "    fill: #1967D2;\n",
              "    height: 32px;\n",
              "    padding: 0 0 0 0;\n",
              "    width: 32px;\n",
              "  }\n",
              "\n",
              "  .colab-df-quickchart:hover {\n",
              "    background-color: #E2EBFA;\n",
              "    box-shadow: 0px 1px 2px rgba(60, 64, 67, 0.3), 0px 1px 3px 1px rgba(60, 64, 67, 0.15);\n",
              "    fill: #174EA6;\n",
              "  }\n",
              "\n",
              "  [theme=dark] .colab-df-quickchart {\n",
              "    background-color: #3B4455;\n",
              "    fill: #D2E3FC;\n",
              "  }\n",
              "\n",
              "  [theme=dark] .colab-df-quickchart:hover {\n",
              "    background-color: #434B5C;\n",
              "    box-shadow: 0px 1px 3px 1px rgba(0, 0, 0, 0.15);\n",
              "    filter: drop-shadow(0px 1px 2px rgba(0, 0, 0, 0.3));\n",
              "    fill: #FFFFFF;\n",
              "  }\n",
              "</style>\n",
              "\n",
              "  <script>\n",
              "    async function quickchart(key) {\n",
              "      const charts = await google.colab.kernel.invokeFunction(\n",
              "          'suggestCharts', [key], {});\n",
              "    }\n",
              "    (() => {\n",
              "      let quickchartButtonEl =\n",
              "        document.querySelector('#df-e92af5d4-eb58-47a3-a331-ab398447271c button');\n",
              "      quickchartButtonEl.style.display =\n",
              "        google.colab.kernel.accessAllowed ? 'block' : 'none';\n",
              "    })();\n",
              "  </script>\n",
              "</div>\n",
              "    </div>\n",
              "  </div>\n"
            ]
          },
          "metadata": {},
          "execution_count": 157
        }
      ]
    },
    {
      "cell_type": "code",
      "execution_count": 158,
      "metadata": {
        "colab": {
          "base_uri": "https://localhost:8080/",
          "height": 424
        },
        "id": "bIt5i6rnh4aZ",
        "outputId": "5f86dc3d-e5c8-44df-d80b-20ce83a0c8f8"
      },
      "outputs": [
        {
          "output_type": "display_data",
          "data": {
            "text/plain": [
              "             Data   Hora                         Estacao Codigo Poluente  \\\n",
              "0      2015-01-01  01:00    Americana - Vila Santa Maria   SP01     MP10   \n",
              "1      2015-01-01  02:00    Americana - Vila Santa Maria   SP01     MP10   \n",
              "2      2015-01-01  03:00    Americana - Vila Santa Maria   SP01     MP10   \n",
              "3      2015-01-01  04:00    Americana - Vila Santa Maria   SP01     MP10   \n",
              "4      2015-01-01  05:00    Americana - Vila Santa Maria   SP01     MP10   \n",
              "...           ...    ...                             ...    ...      ...   \n",
              "687843 2015-01-03  03:00  Marg. Tietê - Pte dos Remédios   SP37      NO2   \n",
              "687844 2015-01-03  04:00  Marg. Tietê - Pte dos Remédios   SP37      NO2   \n",
              "687845 2015-01-03  05:00  Marg. Tietê - Pte dos Remédios   SP37      NO2   \n",
              "687846 2015-01-03  06:00  Marg. Tietê - Pte dos Remédios   SP37      NO2   \n",
              "687847 2015-01-03  07:00  Marg. Tietê - Pte dos Remédios   SP37      NO2   \n",
              "\n",
              "        Valor Unidade        Tipo  \n",
              "0        65.0   ug/m3  automatica  \n",
              "1        98.0   ug/m3  automatica  \n",
              "2        79.0   ug/m3  automatica  \n",
              "3        53.0   ug/m3  automatica  \n",
              "4        35.0   ug/m3  automatica  \n",
              "...       ...     ...         ...  \n",
              "687843   24.0   ug/m3  automatica  \n",
              "687844   20.0   ug/m3  automatica  \n",
              "687845   19.0   ug/m3  automatica  \n",
              "687846   19.0   ug/m3  automatica  \n",
              "687847   28.0   ug/m3  automatica  \n",
              "\n",
              "[687848 rows x 8 columns]"
            ],
            "text/html": [
              "\n",
              "  <div id=\"df-078e6e0f-e5bd-4e3d-abea-66f8ae4f8dee\" class=\"colab-df-container\">\n",
              "    <div>\n",
              "<style scoped>\n",
              "    .dataframe tbody tr th:only-of-type {\n",
              "        vertical-align: middle;\n",
              "    }\n",
              "\n",
              "    .dataframe tbody tr th {\n",
              "        vertical-align: top;\n",
              "    }\n",
              "\n",
              "    .dataframe thead th {\n",
              "        text-align: right;\n",
              "    }\n",
              "</style>\n",
              "<table border=\"1\" class=\"dataframe\">\n",
              "  <thead>\n",
              "    <tr style=\"text-align: right;\">\n",
              "      <th></th>\n",
              "      <th>Data</th>\n",
              "      <th>Hora</th>\n",
              "      <th>Estacao</th>\n",
              "      <th>Codigo</th>\n",
              "      <th>Poluente</th>\n",
              "      <th>Valor</th>\n",
              "      <th>Unidade</th>\n",
              "      <th>Tipo</th>\n",
              "    </tr>\n",
              "  </thead>\n",
              "  <tbody>\n",
              "    <tr>\n",
              "      <th>0</th>\n",
              "      <td>2015-01-01</td>\n",
              "      <td>01:00</td>\n",
              "      <td>Americana - Vila Santa Maria</td>\n",
              "      <td>SP01</td>\n",
              "      <td>MP10</td>\n",
              "      <td>65.0</td>\n",
              "      <td>ug/m3</td>\n",
              "      <td>automatica</td>\n",
              "    </tr>\n",
              "    <tr>\n",
              "      <th>1</th>\n",
              "      <td>2015-01-01</td>\n",
              "      <td>02:00</td>\n",
              "      <td>Americana - Vila Santa Maria</td>\n",
              "      <td>SP01</td>\n",
              "      <td>MP10</td>\n",
              "      <td>98.0</td>\n",
              "      <td>ug/m3</td>\n",
              "      <td>automatica</td>\n",
              "    </tr>\n",
              "    <tr>\n",
              "      <th>2</th>\n",
              "      <td>2015-01-01</td>\n",
              "      <td>03:00</td>\n",
              "      <td>Americana - Vila Santa Maria</td>\n",
              "      <td>SP01</td>\n",
              "      <td>MP10</td>\n",
              "      <td>79.0</td>\n",
              "      <td>ug/m3</td>\n",
              "      <td>automatica</td>\n",
              "    </tr>\n",
              "    <tr>\n",
              "      <th>3</th>\n",
              "      <td>2015-01-01</td>\n",
              "      <td>04:00</td>\n",
              "      <td>Americana - Vila Santa Maria</td>\n",
              "      <td>SP01</td>\n",
              "      <td>MP10</td>\n",
              "      <td>53.0</td>\n",
              "      <td>ug/m3</td>\n",
              "      <td>automatica</td>\n",
              "    </tr>\n",
              "    <tr>\n",
              "      <th>4</th>\n",
              "      <td>2015-01-01</td>\n",
              "      <td>05:00</td>\n",
              "      <td>Americana - Vila Santa Maria</td>\n",
              "      <td>SP01</td>\n",
              "      <td>MP10</td>\n",
              "      <td>35.0</td>\n",
              "      <td>ug/m3</td>\n",
              "      <td>automatica</td>\n",
              "    </tr>\n",
              "    <tr>\n",
              "      <th>...</th>\n",
              "      <td>...</td>\n",
              "      <td>...</td>\n",
              "      <td>...</td>\n",
              "      <td>...</td>\n",
              "      <td>...</td>\n",
              "      <td>...</td>\n",
              "      <td>...</td>\n",
              "      <td>...</td>\n",
              "    </tr>\n",
              "    <tr>\n",
              "      <th>687843</th>\n",
              "      <td>2015-01-03</td>\n",
              "      <td>03:00</td>\n",
              "      <td>Marg. Tietê - Pte dos Remédios</td>\n",
              "      <td>SP37</td>\n",
              "      <td>NO2</td>\n",
              "      <td>24.0</td>\n",
              "      <td>ug/m3</td>\n",
              "      <td>automatica</td>\n",
              "    </tr>\n",
              "    <tr>\n",
              "      <th>687844</th>\n",
              "      <td>2015-01-03</td>\n",
              "      <td>04:00</td>\n",
              "      <td>Marg. Tietê - Pte dos Remédios</td>\n",
              "      <td>SP37</td>\n",
              "      <td>NO2</td>\n",
              "      <td>20.0</td>\n",
              "      <td>ug/m3</td>\n",
              "      <td>automatica</td>\n",
              "    </tr>\n",
              "    <tr>\n",
              "      <th>687845</th>\n",
              "      <td>2015-01-03</td>\n",
              "      <td>05:00</td>\n",
              "      <td>Marg. Tietê - Pte dos Remédios</td>\n",
              "      <td>SP37</td>\n",
              "      <td>NO2</td>\n",
              "      <td>19.0</td>\n",
              "      <td>ug/m3</td>\n",
              "      <td>automatica</td>\n",
              "    </tr>\n",
              "    <tr>\n",
              "      <th>687846</th>\n",
              "      <td>2015-01-03</td>\n",
              "      <td>06:00</td>\n",
              "      <td>Marg. Tietê - Pte dos Remédios</td>\n",
              "      <td>SP37</td>\n",
              "      <td>NO2</td>\n",
              "      <td>19.0</td>\n",
              "      <td>ug/m3</td>\n",
              "      <td>automatica</td>\n",
              "    </tr>\n",
              "    <tr>\n",
              "      <th>687847</th>\n",
              "      <td>2015-01-03</td>\n",
              "      <td>07:00</td>\n",
              "      <td>Marg. Tietê - Pte dos Remédios</td>\n",
              "      <td>SP37</td>\n",
              "      <td>NO2</td>\n",
              "      <td>28.0</td>\n",
              "      <td>ug/m3</td>\n",
              "      <td>automatica</td>\n",
              "    </tr>\n",
              "  </tbody>\n",
              "</table>\n",
              "<p>687848 rows × 8 columns</p>\n",
              "</div>\n",
              "    <div class=\"colab-df-buttons\">\n",
              "\n",
              "  <div class=\"colab-df-container\">\n",
              "    <button class=\"colab-df-convert\" onclick=\"convertToInteractive('df-078e6e0f-e5bd-4e3d-abea-66f8ae4f8dee')\"\n",
              "            title=\"Convert this dataframe to an interactive table.\"\n",
              "            style=\"display:none;\">\n",
              "\n",
              "  <svg xmlns=\"http://www.w3.org/2000/svg\" height=\"24px\" viewBox=\"0 -960 960 960\">\n",
              "    <path d=\"M120-120v-720h720v720H120Zm60-500h600v-160H180v160Zm220 220h160v-160H400v160Zm0 220h160v-160H400v160ZM180-400h160v-160H180v160Zm440 0h160v-160H620v160ZM180-180h160v-160H180v160Zm440 0h160v-160H620v160Z\"/>\n",
              "  </svg>\n",
              "    </button>\n",
              "\n",
              "  <style>\n",
              "    .colab-df-container {\n",
              "      display:flex;\n",
              "      gap: 12px;\n",
              "    }\n",
              "\n",
              "    .colab-df-convert {\n",
              "      background-color: #E8F0FE;\n",
              "      border: none;\n",
              "      border-radius: 50%;\n",
              "      cursor: pointer;\n",
              "      display: none;\n",
              "      fill: #1967D2;\n",
              "      height: 32px;\n",
              "      padding: 0 0 0 0;\n",
              "      width: 32px;\n",
              "    }\n",
              "\n",
              "    .colab-df-convert:hover {\n",
              "      background-color: #E2EBFA;\n",
              "      box-shadow: 0px 1px 2px rgba(60, 64, 67, 0.3), 0px 1px 3px 1px rgba(60, 64, 67, 0.15);\n",
              "      fill: #174EA6;\n",
              "    }\n",
              "\n",
              "    .colab-df-buttons div {\n",
              "      margin-bottom: 4px;\n",
              "    }\n",
              "\n",
              "    [theme=dark] .colab-df-convert {\n",
              "      background-color: #3B4455;\n",
              "      fill: #D2E3FC;\n",
              "    }\n",
              "\n",
              "    [theme=dark] .colab-df-convert:hover {\n",
              "      background-color: #434B5C;\n",
              "      box-shadow: 0px 1px 3px 1px rgba(0, 0, 0, 0.15);\n",
              "      filter: drop-shadow(0px 1px 2px rgba(0, 0, 0, 0.3));\n",
              "      fill: #FFFFFF;\n",
              "    }\n",
              "  </style>\n",
              "\n",
              "    <script>\n",
              "      const buttonEl =\n",
              "        document.querySelector('#df-078e6e0f-e5bd-4e3d-abea-66f8ae4f8dee button.colab-df-convert');\n",
              "      buttonEl.style.display =\n",
              "        google.colab.kernel.accessAllowed ? 'block' : 'none';\n",
              "\n",
              "      async function convertToInteractive(key) {\n",
              "        const element = document.querySelector('#df-078e6e0f-e5bd-4e3d-abea-66f8ae4f8dee');\n",
              "        const dataTable =\n",
              "          await google.colab.kernel.invokeFunction('convertToInteractive',\n",
              "                                                    [key], {});\n",
              "        if (!dataTable) return;\n",
              "\n",
              "        const docLinkHtml = 'Like what you see? Visit the ' +\n",
              "          '<a target=\"_blank\" href=https://colab.research.google.com/notebooks/data_table.ipynb>data table notebook</a>'\n",
              "          + ' to learn more about interactive tables.';\n",
              "        element.innerHTML = '';\n",
              "        dataTable['output_type'] = 'display_data';\n",
              "        await google.colab.output.renderOutput(dataTable, element);\n",
              "        const docLink = document.createElement('div');\n",
              "        docLink.innerHTML = docLinkHtml;\n",
              "        element.appendChild(docLink);\n",
              "      }\n",
              "    </script>\n",
              "  </div>\n",
              "\n",
              "\n",
              "<div id=\"df-d9bf52c0-14c4-4043-a5e5-5de24e92157c\">\n",
              "  <button class=\"colab-df-quickchart\" onclick=\"quickchart('df-d9bf52c0-14c4-4043-a5e5-5de24e92157c')\"\n",
              "            title=\"Suggest charts.\"\n",
              "            style=\"display:none;\">\n",
              "\n",
              "<svg xmlns=\"http://www.w3.org/2000/svg\" height=\"24px\"viewBox=\"0 0 24 24\"\n",
              "     width=\"24px\">\n",
              "    <g>\n",
              "        <path d=\"M19 3H5c-1.1 0-2 .9-2 2v14c0 1.1.9 2 2 2h14c1.1 0 2-.9 2-2V5c0-1.1-.9-2-2-2zM9 17H7v-7h2v7zm4 0h-2V7h2v10zm4 0h-2v-4h2v4z\"/>\n",
              "    </g>\n",
              "</svg>\n",
              "  </button>\n",
              "\n",
              "<style>\n",
              "  .colab-df-quickchart {\n",
              "    background-color: #E8F0FE;\n",
              "    border: none;\n",
              "    border-radius: 50%;\n",
              "    cursor: pointer;\n",
              "    display: none;\n",
              "    fill: #1967D2;\n",
              "    height: 32px;\n",
              "    padding: 0 0 0 0;\n",
              "    width: 32px;\n",
              "  }\n",
              "\n",
              "  .colab-df-quickchart:hover {\n",
              "    background-color: #E2EBFA;\n",
              "    box-shadow: 0px 1px 2px rgba(60, 64, 67, 0.3), 0px 1px 3px 1px rgba(60, 64, 67, 0.15);\n",
              "    fill: #174EA6;\n",
              "  }\n",
              "\n",
              "  [theme=dark] .colab-df-quickchart {\n",
              "    background-color: #3B4455;\n",
              "    fill: #D2E3FC;\n",
              "  }\n",
              "\n",
              "  [theme=dark] .colab-df-quickchart:hover {\n",
              "    background-color: #434B5C;\n",
              "    box-shadow: 0px 1px 3px 1px rgba(0, 0, 0, 0.15);\n",
              "    filter: drop-shadow(0px 1px 2px rgba(0, 0, 0, 0.3));\n",
              "    fill: #FFFFFF;\n",
              "  }\n",
              "</style>\n",
              "\n",
              "  <script>\n",
              "    async function quickchart(key) {\n",
              "      const charts = await google.colab.kernel.invokeFunction(\n",
              "          'suggestCharts', [key], {});\n",
              "    }\n",
              "    (() => {\n",
              "      let quickchartButtonEl =\n",
              "        document.querySelector('#df-d9bf52c0-14c4-4043-a5e5-5de24e92157c button');\n",
              "      quickchartButtonEl.style.display =\n",
              "        google.colab.kernel.accessAllowed ? 'block' : 'none';\n",
              "    })();\n",
              "  </script>\n",
              "</div>\n",
              "    </div>\n",
              "  </div>\n"
            ]
          },
          "metadata": {}
        }
      ],
      "source": [
        "display(dataframe) # 5 primeiras e 5 últimas linhas do dataset com total de linhas e colunas."
      ]
    },
    {
      "cell_type": "code",
      "source": [
        "dataframe.loc[3] #retorna as informações da linha 3"
      ],
      "metadata": {
        "colab": {
          "base_uri": "https://localhost:8080/"
        },
        "id": "XHGSA3UxpQ6g",
        "outputId": "81b07b2d-8e3f-4cc1-ffc0-4b7f1b2fc706"
      },
      "execution_count": 159,
      "outputs": [
        {
          "output_type": "execute_result",
          "data": {
            "text/plain": [
              "Data                 2015-01-01 00:00:00\n",
              "Hora                               04:00\n",
              "Estacao     Americana - Vila Santa Maria\n",
              "Codigo                              SP01\n",
              "Poluente                            MP10\n",
              "Valor                               53.0\n",
              "Unidade                            ug/m3\n",
              "Tipo                          automatica\n",
              "Name: 3, dtype: object"
            ]
          },
          "metadata": {},
          "execution_count": 159
        }
      ]
    },
    {
      "cell_type": "code",
      "execution_count": 163,
      "metadata": {
        "colab": {
          "base_uri": "https://localhost:8080/"
        },
        "id": "F3CMNyK2Hpum",
        "outputId": "69d0cc2e-347a-4274-d461-7b0639d105ba"
      },
      "outputs": [
        {
          "output_type": "stream",
          "name": "stdout",
          "text": [
            "Data        365\n",
            "Hora         24\n",
            "Estacao      28\n",
            "Codigo       28\n",
            "Poluente      6\n",
            "Valor       474\n",
            "Unidade       1\n",
            "Tipo          1\n",
            "dtype: int64\n"
          ]
        }
      ],
      "source": [
        "print(dataframe.nunique()) #retorna o número de valores únicos de cada variável\n"
      ]
    },
    {
      "cell_type": "code",
      "source": [
        "# Valores únicos da variável Poluente:\n",
        "valores_unicos = dataframe['Poluente'].unique()\n",
        "print(valores_unicos)"
      ],
      "metadata": {
        "colab": {
          "base_uri": "https://localhost:8080/"
        },
        "id": "uNPk31MJVgY9",
        "outputId": "9391a370-8c14-484c-be32-498618b33337"
      },
      "execution_count": 169,
      "outputs": [
        {
          "output_type": "stream",
          "name": "stdout",
          "text": [
            "['MP10' 'O3' 'NO2' 'CO' 'MP2.5' 'SO2']\n"
          ]
        }
      ]
    },
    {
      "cell_type": "code",
      "source": [
        "dataframe[dataframe['Valor'] > 100] #filtragem para valores acima de 100"
      ],
      "metadata": {
        "colab": {
          "base_uri": "https://localhost:8080/",
          "height": 424
        },
        "id": "syF4jluGWDRN",
        "outputId": "e76f4a31-97d3-4d81-f20e-7cdd91e5a502"
      },
      "execution_count": 173,
      "outputs": [
        {
          "output_type": "execute_result",
          "data": {
            "text/plain": [
              "             Data   Hora                         Estacao Codigo Poluente  \\\n",
              "285    2015-01-12  22:00    Americana - Vila Santa Maria   SP01     MP10   \n",
              "468    2015-01-20  13:00    Americana - Vila Santa Maria   SP01     MP10   \n",
              "482    2015-01-21  03:00    Americana - Vila Santa Maria   SP01     MP10   \n",
              "1585   2015-05-26  09:00    Americana - Vila Santa Maria   SP01     MP10   \n",
              "1694   2015-05-30  23:00    Americana - Vila Santa Maria   SP01     MP10   \n",
              "...           ...    ...                             ...    ...      ...   \n",
              "678505 2015-11-11  08:00  Marg. Tietê - Pte dos Remédios   SP37     MP10   \n",
              "678506 2015-11-11  09:00  Marg. Tietê - Pte dos Remédios   SP37     MP10   \n",
              "678507 2015-11-11  10:00  Marg. Tietê - Pte dos Remédios   SP37     MP10   \n",
              "684483 2015-08-08  03:00  Marg. Tietê - Pte dos Remédios   SP37    MP2.5   \n",
              "685567 2015-09-25  06:00  Marg. Tietê - Pte dos Remédios   SP37    MP2.5   \n",
              "\n",
              "        Valor Unidade        Tipo  \n",
              "285     106.0   ug/m3  automatica  \n",
              "468     107.0   ug/m3  automatica  \n",
              "482     108.0   ug/m3  automatica  \n",
              "1585    104.0   ug/m3  automatica  \n",
              "1694    143.0   ug/m3  automatica  \n",
              "...       ...     ...         ...  \n",
              "678505  102.0   ug/m3  automatica  \n",
              "678506  108.0   ug/m3  automatica  \n",
              "678507  107.0   ug/m3  automatica  \n",
              "684483  105.0   ug/m3  automatica  \n",
              "685567  104.0   ug/m3  automatica  \n",
              "\n",
              "[83112 rows x 8 columns]"
            ],
            "text/html": [
              "\n",
              "  <div id=\"df-49b06247-d389-4e9a-9fde-fb009a94c0f8\" class=\"colab-df-container\">\n",
              "    <div>\n",
              "<style scoped>\n",
              "    .dataframe tbody tr th:only-of-type {\n",
              "        vertical-align: middle;\n",
              "    }\n",
              "\n",
              "    .dataframe tbody tr th {\n",
              "        vertical-align: top;\n",
              "    }\n",
              "\n",
              "    .dataframe thead th {\n",
              "        text-align: right;\n",
              "    }\n",
              "</style>\n",
              "<table border=\"1\" class=\"dataframe\">\n",
              "  <thead>\n",
              "    <tr style=\"text-align: right;\">\n",
              "      <th></th>\n",
              "      <th>Data</th>\n",
              "      <th>Hora</th>\n",
              "      <th>Estacao</th>\n",
              "      <th>Codigo</th>\n",
              "      <th>Poluente</th>\n",
              "      <th>Valor</th>\n",
              "      <th>Unidade</th>\n",
              "      <th>Tipo</th>\n",
              "    </tr>\n",
              "  </thead>\n",
              "  <tbody>\n",
              "    <tr>\n",
              "      <th>285</th>\n",
              "      <td>2015-01-12</td>\n",
              "      <td>22:00</td>\n",
              "      <td>Americana - Vila Santa Maria</td>\n",
              "      <td>SP01</td>\n",
              "      <td>MP10</td>\n",
              "      <td>106.0</td>\n",
              "      <td>ug/m3</td>\n",
              "      <td>automatica</td>\n",
              "    </tr>\n",
              "    <tr>\n",
              "      <th>468</th>\n",
              "      <td>2015-01-20</td>\n",
              "      <td>13:00</td>\n",
              "      <td>Americana - Vila Santa Maria</td>\n",
              "      <td>SP01</td>\n",
              "      <td>MP10</td>\n",
              "      <td>107.0</td>\n",
              "      <td>ug/m3</td>\n",
              "      <td>automatica</td>\n",
              "    </tr>\n",
              "    <tr>\n",
              "      <th>482</th>\n",
              "      <td>2015-01-21</td>\n",
              "      <td>03:00</td>\n",
              "      <td>Americana - Vila Santa Maria</td>\n",
              "      <td>SP01</td>\n",
              "      <td>MP10</td>\n",
              "      <td>108.0</td>\n",
              "      <td>ug/m3</td>\n",
              "      <td>automatica</td>\n",
              "    </tr>\n",
              "    <tr>\n",
              "      <th>1585</th>\n",
              "      <td>2015-05-26</td>\n",
              "      <td>09:00</td>\n",
              "      <td>Americana - Vila Santa Maria</td>\n",
              "      <td>SP01</td>\n",
              "      <td>MP10</td>\n",
              "      <td>104.0</td>\n",
              "      <td>ug/m3</td>\n",
              "      <td>automatica</td>\n",
              "    </tr>\n",
              "    <tr>\n",
              "      <th>1694</th>\n",
              "      <td>2015-05-30</td>\n",
              "      <td>23:00</td>\n",
              "      <td>Americana - Vila Santa Maria</td>\n",
              "      <td>SP01</td>\n",
              "      <td>MP10</td>\n",
              "      <td>143.0</td>\n",
              "      <td>ug/m3</td>\n",
              "      <td>automatica</td>\n",
              "    </tr>\n",
              "    <tr>\n",
              "      <th>...</th>\n",
              "      <td>...</td>\n",
              "      <td>...</td>\n",
              "      <td>...</td>\n",
              "      <td>...</td>\n",
              "      <td>...</td>\n",
              "      <td>...</td>\n",
              "      <td>...</td>\n",
              "      <td>...</td>\n",
              "    </tr>\n",
              "    <tr>\n",
              "      <th>678505</th>\n",
              "      <td>2015-11-11</td>\n",
              "      <td>08:00</td>\n",
              "      <td>Marg. Tietê - Pte dos Remédios</td>\n",
              "      <td>SP37</td>\n",
              "      <td>MP10</td>\n",
              "      <td>102.0</td>\n",
              "      <td>ug/m3</td>\n",
              "      <td>automatica</td>\n",
              "    </tr>\n",
              "    <tr>\n",
              "      <th>678506</th>\n",
              "      <td>2015-11-11</td>\n",
              "      <td>09:00</td>\n",
              "      <td>Marg. Tietê - Pte dos Remédios</td>\n",
              "      <td>SP37</td>\n",
              "      <td>MP10</td>\n",
              "      <td>108.0</td>\n",
              "      <td>ug/m3</td>\n",
              "      <td>automatica</td>\n",
              "    </tr>\n",
              "    <tr>\n",
              "      <th>678507</th>\n",
              "      <td>2015-11-11</td>\n",
              "      <td>10:00</td>\n",
              "      <td>Marg. Tietê - Pte dos Remédios</td>\n",
              "      <td>SP37</td>\n",
              "      <td>MP10</td>\n",
              "      <td>107.0</td>\n",
              "      <td>ug/m3</td>\n",
              "      <td>automatica</td>\n",
              "    </tr>\n",
              "    <tr>\n",
              "      <th>684483</th>\n",
              "      <td>2015-08-08</td>\n",
              "      <td>03:00</td>\n",
              "      <td>Marg. Tietê - Pte dos Remédios</td>\n",
              "      <td>SP37</td>\n",
              "      <td>MP2.5</td>\n",
              "      <td>105.0</td>\n",
              "      <td>ug/m3</td>\n",
              "      <td>automatica</td>\n",
              "    </tr>\n",
              "    <tr>\n",
              "      <th>685567</th>\n",
              "      <td>2015-09-25</td>\n",
              "      <td>06:00</td>\n",
              "      <td>Marg. Tietê - Pte dos Remédios</td>\n",
              "      <td>SP37</td>\n",
              "      <td>MP2.5</td>\n",
              "      <td>104.0</td>\n",
              "      <td>ug/m3</td>\n",
              "      <td>automatica</td>\n",
              "    </tr>\n",
              "  </tbody>\n",
              "</table>\n",
              "<p>83112 rows × 8 columns</p>\n",
              "</div>\n",
              "    <div class=\"colab-df-buttons\">\n",
              "\n",
              "  <div class=\"colab-df-container\">\n",
              "    <button class=\"colab-df-convert\" onclick=\"convertToInteractive('df-49b06247-d389-4e9a-9fde-fb009a94c0f8')\"\n",
              "            title=\"Convert this dataframe to an interactive table.\"\n",
              "            style=\"display:none;\">\n",
              "\n",
              "  <svg xmlns=\"http://www.w3.org/2000/svg\" height=\"24px\" viewBox=\"0 -960 960 960\">\n",
              "    <path d=\"M120-120v-720h720v720H120Zm60-500h600v-160H180v160Zm220 220h160v-160H400v160Zm0 220h160v-160H400v160ZM180-400h160v-160H180v160Zm440 0h160v-160H620v160ZM180-180h160v-160H180v160Zm440 0h160v-160H620v160Z\"/>\n",
              "  </svg>\n",
              "    </button>\n",
              "\n",
              "  <style>\n",
              "    .colab-df-container {\n",
              "      display:flex;\n",
              "      gap: 12px;\n",
              "    }\n",
              "\n",
              "    .colab-df-convert {\n",
              "      background-color: #E8F0FE;\n",
              "      border: none;\n",
              "      border-radius: 50%;\n",
              "      cursor: pointer;\n",
              "      display: none;\n",
              "      fill: #1967D2;\n",
              "      height: 32px;\n",
              "      padding: 0 0 0 0;\n",
              "      width: 32px;\n",
              "    }\n",
              "\n",
              "    .colab-df-convert:hover {\n",
              "      background-color: #E2EBFA;\n",
              "      box-shadow: 0px 1px 2px rgba(60, 64, 67, 0.3), 0px 1px 3px 1px rgba(60, 64, 67, 0.15);\n",
              "      fill: #174EA6;\n",
              "    }\n",
              "\n",
              "    .colab-df-buttons div {\n",
              "      margin-bottom: 4px;\n",
              "    }\n",
              "\n",
              "    [theme=dark] .colab-df-convert {\n",
              "      background-color: #3B4455;\n",
              "      fill: #D2E3FC;\n",
              "    }\n",
              "\n",
              "    [theme=dark] .colab-df-convert:hover {\n",
              "      background-color: #434B5C;\n",
              "      box-shadow: 0px 1px 3px 1px rgba(0, 0, 0, 0.15);\n",
              "      filter: drop-shadow(0px 1px 2px rgba(0, 0, 0, 0.3));\n",
              "      fill: #FFFFFF;\n",
              "    }\n",
              "  </style>\n",
              "\n",
              "    <script>\n",
              "      const buttonEl =\n",
              "        document.querySelector('#df-49b06247-d389-4e9a-9fde-fb009a94c0f8 button.colab-df-convert');\n",
              "      buttonEl.style.display =\n",
              "        google.colab.kernel.accessAllowed ? 'block' : 'none';\n",
              "\n",
              "      async function convertToInteractive(key) {\n",
              "        const element = document.querySelector('#df-49b06247-d389-4e9a-9fde-fb009a94c0f8');\n",
              "        const dataTable =\n",
              "          await google.colab.kernel.invokeFunction('convertToInteractive',\n",
              "                                                    [key], {});\n",
              "        if (!dataTable) return;\n",
              "\n",
              "        const docLinkHtml = 'Like what you see? Visit the ' +\n",
              "          '<a target=\"_blank\" href=https://colab.research.google.com/notebooks/data_table.ipynb>data table notebook</a>'\n",
              "          + ' to learn more about interactive tables.';\n",
              "        element.innerHTML = '';\n",
              "        dataTable['output_type'] = 'display_data';\n",
              "        await google.colab.output.renderOutput(dataTable, element);\n",
              "        const docLink = document.createElement('div');\n",
              "        docLink.innerHTML = docLinkHtml;\n",
              "        element.appendChild(docLink);\n",
              "      }\n",
              "    </script>\n",
              "  </div>\n",
              "\n",
              "\n",
              "<div id=\"df-619608f4-2c01-411c-8952-6f4163c0c834\">\n",
              "  <button class=\"colab-df-quickchart\" onclick=\"quickchart('df-619608f4-2c01-411c-8952-6f4163c0c834')\"\n",
              "            title=\"Suggest charts.\"\n",
              "            style=\"display:none;\">\n",
              "\n",
              "<svg xmlns=\"http://www.w3.org/2000/svg\" height=\"24px\"viewBox=\"0 0 24 24\"\n",
              "     width=\"24px\">\n",
              "    <g>\n",
              "        <path d=\"M19 3H5c-1.1 0-2 .9-2 2v14c0 1.1.9 2 2 2h14c1.1 0 2-.9 2-2V5c0-1.1-.9-2-2-2zM9 17H7v-7h2v7zm4 0h-2V7h2v10zm4 0h-2v-4h2v4z\"/>\n",
              "    </g>\n",
              "</svg>\n",
              "  </button>\n",
              "\n",
              "<style>\n",
              "  .colab-df-quickchart {\n",
              "    background-color: #E8F0FE;\n",
              "    border: none;\n",
              "    border-radius: 50%;\n",
              "    cursor: pointer;\n",
              "    display: none;\n",
              "    fill: #1967D2;\n",
              "    height: 32px;\n",
              "    padding: 0 0 0 0;\n",
              "    width: 32px;\n",
              "  }\n",
              "\n",
              "  .colab-df-quickchart:hover {\n",
              "    background-color: #E2EBFA;\n",
              "    box-shadow: 0px 1px 2px rgba(60, 64, 67, 0.3), 0px 1px 3px 1px rgba(60, 64, 67, 0.15);\n",
              "    fill: #174EA6;\n",
              "  }\n",
              "\n",
              "  [theme=dark] .colab-df-quickchart {\n",
              "    background-color: #3B4455;\n",
              "    fill: #D2E3FC;\n",
              "  }\n",
              "\n",
              "  [theme=dark] .colab-df-quickchart:hover {\n",
              "    background-color: #434B5C;\n",
              "    box-shadow: 0px 1px 3px 1px rgba(0, 0, 0, 0.15);\n",
              "    filter: drop-shadow(0px 1px 2px rgba(0, 0, 0, 0.3));\n",
              "    fill: #FFFFFF;\n",
              "  }\n",
              "</style>\n",
              "\n",
              "  <script>\n",
              "    async function quickchart(key) {\n",
              "      const charts = await google.colab.kernel.invokeFunction(\n",
              "          'suggestCharts', [key], {});\n",
              "    }\n",
              "    (() => {\n",
              "      let quickchartButtonEl =\n",
              "        document.querySelector('#df-619608f4-2c01-411c-8952-6f4163c0c834 button');\n",
              "      quickchartButtonEl.style.display =\n",
              "        google.colab.kernel.accessAllowed ? 'block' : 'none';\n",
              "    })();\n",
              "  </script>\n",
              "</div>\n",
              "    </div>\n",
              "  </div>\n"
            ]
          },
          "metadata": {},
          "execution_count": 173
        }
      ]
    },
    {
      "cell_type": "code",
      "source": [
        "# Supondo que 'dataframe' é o seu DataFrame\n",
        "df = dataframe.drop_duplicates()\n",
        "\n",
        "# Exibir o novo DataFrame sem duplicatas\n",
        "print(df)"
      ],
      "metadata": {
        "colab": {
          "base_uri": "https://localhost:8080/"
        },
        "id": "WtcoTKuxXV_M",
        "outputId": "a84133fd-b4b2-4712-f9ba-afc60c36c303"
      },
      "execution_count": 174,
      "outputs": [
        {
          "output_type": "stream",
          "name": "stdout",
          "text": [
            "             Data   Hora                         Estacao Codigo Poluente  \\\n",
            "0      2015-01-01  01:00    Americana - Vila Santa Maria   SP01     MP10   \n",
            "1      2015-01-01  02:00    Americana - Vila Santa Maria   SP01     MP10   \n",
            "2      2015-01-01  03:00    Americana - Vila Santa Maria   SP01     MP10   \n",
            "3      2015-01-01  04:00    Americana - Vila Santa Maria   SP01     MP10   \n",
            "4      2015-01-01  05:00    Americana - Vila Santa Maria   SP01     MP10   \n",
            "...           ...    ...                             ...    ...      ...   \n",
            "687843 2015-01-03  03:00  Marg. Tietê - Pte dos Remédios   SP37      NO2   \n",
            "687844 2015-01-03  04:00  Marg. Tietê - Pte dos Remédios   SP37      NO2   \n",
            "687845 2015-01-03  05:00  Marg. Tietê - Pte dos Remédios   SP37      NO2   \n",
            "687846 2015-01-03  06:00  Marg. Tietê - Pte dos Remédios   SP37      NO2   \n",
            "687847 2015-01-03  07:00  Marg. Tietê - Pte dos Remédios   SP37      NO2   \n",
            "\n",
            "        Valor Unidade        Tipo  \n",
            "0        65.0   ug/m3  automatica  \n",
            "1        98.0   ug/m3  automatica  \n",
            "2        79.0   ug/m3  automatica  \n",
            "3        53.0   ug/m3  automatica  \n",
            "4        35.0   ug/m3  automatica  \n",
            "...       ...     ...         ...  \n",
            "687843   24.0   ug/m3  automatica  \n",
            "687844   20.0   ug/m3  automatica  \n",
            "687845   19.0   ug/m3  automatica  \n",
            "687846   19.0   ug/m3  automatica  \n",
            "687847   28.0   ug/m3  automatica  \n",
            "\n",
            "[687848 rows x 8 columns]\n"
          ]
        }
      ]
    },
    {
      "cell_type": "code",
      "execution_count": 175,
      "metadata": {
        "id": "JsC0nnERyRIk"
      },
      "outputs": [],
      "source": [
        "import pandas as pd\n",
        "import numpy as np\n",
        "\n",
        "# Substitua os valores ausentes por NaN\n",
        "df = df.fillna(np.nan)\n"
      ]
    },
    {
      "cell_type": "markdown",
      "source": [
        "## Estatística descritiva"
      ],
      "metadata": {
        "id": "0XXe9y_-ZS6K"
      }
    },
    {
      "cell_type": "code",
      "execution_count": null,
      "metadata": {
        "colab": {
          "base_uri": "https://localhost:8080/"
        },
        "id": "zPvbXTgAHeFz",
        "outputId": "3d821b43-089c-4a1e-d2f4-f2192a4d52ba"
      },
      "outputs": [
        {
          "name": "stdout",
          "output_type": "stream",
          "text": [
            "               Valor\n",
            "count  687848.000000\n",
            "mean      107.932830\n",
            "std       294.854101\n",
            "min         0.000000\n",
            "25%        12.000000\n",
            "50%        26.000000\n",
            "75%        51.000000\n",
            "max      9645.000000\n"
          ]
        }
      ],
      "source": [
        "print(dataframe.describe())\n"
      ]
    },
    {
      "cell_type": "code",
      "source": [
        "df.Poluente.value_counts() #contagem de valores únicos da variável poluente"
      ],
      "metadata": {
        "colab": {
          "base_uri": "https://localhost:8080/"
        },
        "id": "BTzB0qP_ZfwM",
        "outputId": "73cfbaa0-e485-4551-9b3a-ce0fca69726e"
      },
      "execution_count": 177,
      "outputs": [
        {
          "output_type": "execute_result",
          "data": {
            "text/plain": [
              "MP10     189149\n",
              "O3       175636\n",
              "NO2      154537\n",
              "CO        65539\n",
              "MP2.5     53579\n",
              "SO2       49408\n",
              "Name: Poluente, dtype: int64"
            ]
          },
          "metadata": {},
          "execution_count": 177
        }
      ]
    },
    {
      "cell_type": "code",
      "execution_count": 176,
      "metadata": {
        "colab": {
          "base_uri": "https://localhost:8080/",
          "height": 452
        },
        "id": "o8Qu-MFJkn_c",
        "outputId": "50bda691-4136-4c91-ea9f-5b88c6ecff53"
      },
      "outputs": [
        {
          "output_type": "display_data",
          "data": {
            "text/plain": [
              "<Figure size 640x480 with 1 Axes>"
            ],
            "image/png": "[encoded data removed]"
          },
          "metadata": {}
        }
      ],
      "source": [
        "# Exemplo de boxplot\n",
        "plt.boxplot(df['Valor'])\n",
        "plt.title('Boxplot da Coluna Valor')\n",
        "plt.ylabel('Valor')\n",
        "plt.show()"
      ]
    },
    {
      "cell_type": "code",
      "execution_count": null,
      "metadata": {
        "id": "hhKVFtgWo6e2"
      },
      "outputs": [],
      "source": [
        "x = (dataframe['Data']) # Variável independente\n",
        "y = (dataframe['Valor']) # Variável dependente\n"
      ]
    },
    {
      "cell_type": "code",
      "execution_count": null,
      "metadata": {
        "colab": {
          "base_uri": "https://localhost:8080/",
          "height": 473
        },
        "id": "nZiqaDNFojoQ",
        "outputId": "7b300fa9-43d1-428a-f2ad-ed5749160b26"
      },
      "outputs": [
        {
          "data": {
            "image/png": "[encoded data removed]",
            "text/plain": [
              "<Figure size 640x480 with 1 Axes>"
            ]
          },
          "metadata": {},
          "output_type": "display_data"
        }
      ],
      "source": [
        "# Criar o gráfico de dispersão\n",
        "plt.scatter(x, y)\n",
        "# Adicionar rótulos e título\n",
        "plt.xlabel('Variável Independente')\n",
        "plt.ylabel('Variável Dependente')\n",
        "plt.title('Gráfico de Dispersão')\n",
        "\n",
        "# Exibir o gráfico\n",
        "plt.show()"
      ]
    },
    {
      "cell_type": "code",
      "execution_count": null,
      "metadata": {
        "id": "uf9qCnuFozpi"
      },
      "outputs": [],
      "source": [
        "import matplotlib.pyplot as plt\n",
        "\n",
        "# Calcule a porcentagem de dados ausentes por coluna\n",
        "missing_data_percentage = (dataframe.isnull().sum() / len(dataframe)) * 100"
      ]
    },
    {
      "cell_type": "code",
      "execution_count": null,
      "metadata": {
        "colab": {
          "base_uri": "https://localhost:8080/",
          "height": 491
        },
        "id": "ejczy37Yo3oB",
        "outputId": "47ad9523-c77b-4af9-fafc-fb1253059369"
      },
      "outputs": [
        {
          "data": {
            "image/png": "[encoded data removed]",
            "text/plain": [
              "<Figure size 640x480 with 1 Axes>"
            ]
          },
          "metadata": {},
          "output_type": "display_data"
        }
      ],
      "source": [
        "# Crie um gráfico de barras para os dados ausentes\n",
        "missing_data_percentage.plot(kind='bar')\n",
        "plt.ylabel('Porcentagem de Dados Ausentes')\n",
        "plt.title('Gráfico de Barras - Dados Ausentes por Variável')\n",
        "plt.xticks(rotation=45)\n",
        "plt.show()"
      ]
    },
    {
      "cell_type": "code",
      "execution_count": null,
      "metadata": {
        "colab": {
          "background_save": true,
          "base_uri": "https://localhost:8080/",
          "height": 545
        },
        "id": "JfswNU-VrN0z",
        "outputId": "7bd25af0-3932-4a63-e814-109d8996f4d8"
      },
      "outputs": [
        {
          "data": {
            "image/png": "[encoded data removed]",
            "text/plain": [
              "<Figure size 1000x600 with 1 Axes>"
            ]
          },
          "metadata": {},
          "output_type": "display_data"
        }
      ],
      "source": [
        "import seaborn as sns\n",
        "import matplotlib.pyplot as plt\n",
        "\n",
        "# Crie um mapa de calor dos dados ausentes\n",
        "plt.figure(figsize=(10, 6))  # Ajuste o tamanho da figura conforme necessário\n",
        "sns.heatmap(dataframe.isnull(), cmap='viridis', cbar=False)\n",
        "plt.title('Mapa de Calor - Dados Ausentes')\n",
        "plt.show()\n"
      ]
    },
    {
      "cell_type": "code",
      "execution_count": null,
      "metadata": {
        "id": "Ixes_BMUygPX"
      },
      "outputs": [],
      "source": [
        "dataframe['Valor'] = dataframe['Data'].fillna(np.nan)"
      ]
    }
  ],
  "metadata": {
    "colab": {
      "provenance": [],
      "authorship_tag": "ABX9TyMjWZdhhTjCOKr/JnbBF3/S",
      "include_colab_link": true
    },
    "kernelspec": {
      "display_name": "Python 3",
      "name": "python3"
    },
    "language_info": {
      "name": "python"
    }
  },
  "nbformat": 4,
  "nbformat_minor": 0
}